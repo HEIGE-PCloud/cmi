{
 "cells": [
  {
   "cell_type": "code",
   "execution_count": 2,
   "id": "670e8c67-03dc-43a4-8c1c-4422bffa31f1",
   "metadata": {
    "execution": {
     "iopub.execute_input": "2024-07-26T08:45:49.135657Z",
     "iopub.status.busy": "2024-07-26T08:45:49.135458Z",
     "iopub.status.idle": "2024-07-26T08:45:52.089737Z",
     "shell.execute_reply": "2024-07-26T08:45:52.089326Z",
     "shell.execute_reply.started": "2024-07-26T08:45:49.135644Z"
    }
   },
   "outputs": [
    {
     "name": "stdout",
     "output_type": "stream",
     "text": [
      "Requirement already satisfied: sseclient in /Users/jchen/Code/mm/.venv/lib/python3.12/site-packages (0.0.27)\n",
      "Requirement already satisfied: requests>=2.9 in /Users/jchen/Code/mm/.venv/lib/python3.12/site-packages (from sseclient) (2.32.3)\n",
      "Requirement already satisfied: six in /Users/jchen/Code/mm/.venv/lib/python3.12/site-packages (from sseclient) (1.16.0)\n",
      "Requirement already satisfied: charset-normalizer<4,>=2 in /Users/jchen/Code/mm/.venv/lib/python3.12/site-packages (from requests>=2.9->sseclient) (3.3.2)\n",
      "Requirement already satisfied: idna<4,>=2.5 in /Users/jchen/Code/mm/.venv/lib/python3.12/site-packages (from requests>=2.9->sseclient) (3.7)\n",
      "Requirement already satisfied: urllib3<3,>=1.21.1 in /Users/jchen/Code/mm/.venv/lib/python3.12/site-packages (from requests>=2.9->sseclient) (2.2.2)\n",
      "Requirement already satisfied: certifi>=2017.4.17 in /Users/jchen/Code/mm/.venv/lib/python3.12/site-packages (from requests>=2.9->sseclient) (2024.7.4)\n",
      "\n",
      "\u001b[1m[\u001b[0m\u001b[34;49mnotice\u001b[0m\u001b[1;39;49m]\u001b[0m\u001b[39;49m A new release of pip is available: \u001b[0m\u001b[31;49m24.0\u001b[0m\u001b[39;49m -> \u001b[0m\u001b[32;49m24.1.2\u001b[0m\n",
      "\u001b[1m[\u001b[0m\u001b[34;49mnotice\u001b[0m\u001b[1;39;49m]\u001b[0m\u001b[39;49m To update, run: \u001b[0m\u001b[32;49mpip install --upgrade pip\u001b[0m\n"
     ]
    }
   ],
   "source": [
    "!pip install sseclient"
   ]
  },
  {
   "cell_type": "code",
   "execution_count": 27,
   "id": "73852e95-d11f-4f51-b38b-2e0b016b908f",
   "metadata": {
    "execution": {
     "iopub.execute_input": "2024-07-26T08:45:56.707665Z",
     "iopub.status.busy": "2024-07-26T08:45:56.707451Z",
     "iopub.status.idle": "2024-07-26T08:45:56.735220Z",
     "shell.execute_reply": "2024-07-26T08:45:56.734921Z",
     "shell.execute_reply.started": "2024-07-26T08:45:56.707649Z"
    }
   },
   "outputs": [],
   "source": [
    "import json\n",
    "import threading\n",
    "import time\n",
    "from abc import ABC, abstractmethod\n",
    "from dataclasses import dataclass\n",
    "from functools import cached_property\n",
    "from threading import Thread\n",
    "from typing import Any, Callable, Dict, List, Literal, Optional\n",
    "\n",
    "import requests\n",
    "from sseclient import SSEClient"
   ]
  },
  {
   "cell_type": "code",
   "execution_count": null,
   "id": "9a479609",
   "metadata": {},
   "outputs": [],
   "source": []
  },
  {
   "cell_type": "code",
   "execution_count": 28,
   "id": "d3a14de6-f1e9-4d56-9abf-a67094100e42",
   "metadata": {
    "execution": {
     "iopub.execute_input": "2024-07-26T08:43:17.569255Z",
     "iopub.status.busy": "2024-07-26T08:43:17.568842Z",
     "iopub.status.idle": "2024-07-26T08:43:17.571390Z",
     "shell.execute_reply": "2024-07-26T08:43:17.571096Z",
     "shell.execute_reply.started": "2024-07-26T08:43:17.569240Z"
    }
   },
   "outputs": [],
   "source": [
    "USERNAME = \"Junrong\"\n",
    "PASSWORD = \"ads100\""
   ]
  },
  {
   "cell_type": "code",
   "execution_count": 29,
   "id": "d8057116-99f0-46b6-b07a-540036c7e018",
   "metadata": {
    "execution": {
     "iopub.execute_input": "2024-07-26T08:37:01.054308Z",
     "iopub.status.busy": "2024-07-26T08:37:01.054016Z",
     "iopub.status.idle": "2024-07-26T08:37:01.058410Z",
     "shell.execute_reply": "2024-07-26T08:37:01.058057Z",
     "shell.execute_reply.started": "2024-07-26T08:37:01.054292Z"
    },
    "jupyter": {
     "source_hidden": true
    }
   },
   "outputs": [],
   "source": [
    "STANDARD_HEADERS = {\"Content-Type\": \"application/json; charset=utf-8\"}\n",
    "\n",
    "\n",
    "def _get_headers(auth_token: str) -> Dict[str, str]:\n",
    "    return {**STANDARD_HEADERS, \"Authorization\": auth_token}\n",
    "\n",
    "\n",
    "class SSEThread(Thread):\n",
    "    bearer: str\n",
    "    url: str\n",
    "    handler_method: Callable[[Dict], Any]\n",
    "\n",
    "    def __init__(self, bearer: str, url: str, handler_method: Callable[[Dict], Any]):\n",
    "        super().__init__()\n",
    "        self.bearer = bearer\n",
    "        self.url = url\n",
    "        self.handler_method = handler_method\n",
    "\n",
    "    def run(self):\n",
    "        while True:\n",
    "            try:\n",
    "                self._start_sse_client()\n",
    "            except:\n",
    "                pass\n",
    "\n",
    "    def _start_sse_client(self):\n",
    "        headers = {\n",
    "            \"Authorization\": self.bearer,\n",
    "            \"Accept\": \"text/event-stream; charset=utf-8\",\n",
    "        }\n",
    "        messages = SSEClient(self.url, headers=headers)\n",
    "        for msg in messages:\n",
    "            if msg.id is not None:\n",
    "                self.handler_method(json.loads(msg.event))"
   ]
  },
  {
   "cell_type": "markdown",
   "id": "a5f15178-ff8a-4129-ba21-aefb11bf5fb9",
   "metadata": {},
   "source": [
    "# Basic Example bot"
   ]
  },
  {
   "cell_type": "code",
   "execution_count": 30,
   "id": "42c7a912-5c49-4452-bf04-acbf3ed3689a",
   "metadata": {
    "execution": {
     "iopub.execute_input": "2024-07-26T08:43:02.798231Z",
     "iopub.status.busy": "2024-07-26T08:43:02.797996Z",
     "iopub.status.idle": "2024-07-26T08:43:02.806928Z",
     "shell.execute_reply": "2024-07-26T08:43:02.806616Z",
     "shell.execute_reply.started": "2024-07-26T08:43:02.798213Z"
    }
   },
   "outputs": [],
   "source": [
    "@dataclass\n",
    "class BasicCMIBot:\n",
    "    username: str\n",
    "    password: str\n",
    "    _cmi_url: str = \"http://cmi-eu-2\"\n",
    "\n",
    "    @cached_property\n",
    "    def auth_token(self):\n",
    "        return self._authenticate()\n",
    "\n",
    "    def send_order(\n",
    "        self, product: str, price: float, side: Literal[\"BUY\", \"SELL\"], volume: int\n",
    "    ) -> Dict:\n",
    "        payload = {\"product\": product, \"side\": side, \"price\": price, \"volume\": volume}\n",
    "        url = f\"{self._cmi_url}/api/order\"\n",
    "        response = requests.post(\n",
    "            url, json=payload, headers=_get_headers(self.auth_token),\n",
    "            verify=False\n",
    "        )\n",
    "        if response.status_code == 200:\n",
    "            return response.json()\n",
    "        else:\n",
    "            print(f\"Failed to send order, {payload}\")\n",
    "            print(response.json())\n",
    "\n",
    "    def get_all_orders(self) -> Optional[List[Dict]]:\n",
    "        url = f\"{self._cmi_url}/api/order/current-user\"\n",
    "        response = requests.get(url, headers=_get_headers(self.auth_token), verify=False)\n",
    "        if response.status_code == 200:\n",
    "            return response.json()\n",
    "        else:\n",
    "            print(f\"Failed to get all orders: {response.json()}\")\n",
    "\n",
    "    def cancel_order(self, product, price) -> Dict:\n",
    "        url = f\"{self._cmi_url}/api/order?product={product}&price={price}\"\n",
    "        response = requests.delete(url, headers=_get_headers(self.auth_token), verify=False)\n",
    "        if response.status_code == 200:\n",
    "            return response.json()\n",
    "        else:\n",
    "            print(f\"Failed to delete order: {response.json()}\")\n",
    "\n",
    "    def cancel_all_orders(self):\n",
    "        for order in self.get_all_orders():\n",
    "            url = f'{self._cmi_url}/api/order/{order[\"id\"]}'\n",
    "            response = requests.delete(url, headers=_get_headers(self.auth_token), verify=False)\n",
    "            if response.status_code != 200:\n",
    "                print(\"Failed to cancel order\")\n",
    "                print(response.json())\n",
    "\n",
    "    def get_all_products(self) -> List[str]:\n",
    "        url = f\"{self._cmi_url}/api/product\"\n",
    "        response = requests.get(url, headers=STANDARD_HEADERS, verify=False)\n",
    "        if response.status_code == 200:\n",
    "            return [product[\"symbol\"] for product in json.loads(response.text)]\n",
    "        else:\n",
    "            print(\"Failed to get all products\")\n",
    "            print(response.json())\n",
    "\n",
    "    @property\n",
    "    def positions(self) -> Dict[str, int]:\n",
    "        url = f\"{self._cmi_url}/api/position/current-user\"\n",
    "        response = requests.get(url, headers=_get_headers(self.auth_token), verify=False)\n",
    "        if response.status_code == 200:\n",
    "            return {\n",
    "                position[\"product\"]: position[\"volume\"] for position in response.json()\n",
    "            }\n",
    "        else:\n",
    "            print(\"Failed to get positions\")\n",
    "            print(response.json())\n",
    "            return dict()\n",
    "\n",
    "    def _authenticate(self) -> str:\n",
    "        auth = {\"username\": self.username, \"password\": self.password}\n",
    "        url = f\"{self._cmi_url}/api/user/authenticate\"\n",
    "        response = requests.post(url, headers=STANDARD_HEADERS, json=auth, verify=False)\n",
    "        response.raise_for_status()\n",
    "        return response.headers[\"Authorization\"]"
   ]
  },
  {
   "cell_type": "code",
   "execution_count": 31,
   "id": "b49257b4-240d-4ccb-99a3-27810ffc17f3",
   "metadata": {
    "execution": {
     "iopub.execute_input": "2024-07-26T08:37:02.407589Z",
     "iopub.status.busy": "2024-07-26T08:37:02.407274Z",
     "iopub.status.idle": "2024-07-26T08:37:02.409934Z",
     "shell.execute_reply": "2024-07-26T08:37:02.409596Z",
     "shell.execute_reply.started": "2024-07-26T08:37:02.407573Z"
    }
   },
   "outputs": [],
   "source": [
    "basic_bot = BasicCMIBot(username=USERNAME, password=PASSWORD)"
   ]
  },
  {
   "cell_type": "code",
   "execution_count": 32,
   "id": "424372f4-0a74-4fed-aa97-5f811ce72fa0",
   "metadata": {
    "execution": {
     "iopub.execute_input": "2024-07-26T08:42:43.859137Z",
     "iopub.status.busy": "2024-07-26T08:42:43.858802Z",
     "iopub.status.idle": "2024-07-26T08:42:43.965866Z",
     "shell.execute_reply": "2024-07-26T08:42:43.965278Z",
     "shell.execute_reply.started": "2024-07-26T08:42:43.859122Z"
    }
   },
   "outputs": [
    {
     "name": "stderr",
     "output_type": "stream",
     "text": [
      "/Users/jchen/Code/mm/.venv/lib/python3.12/site-packages/urllib3/connectionpool.py:1099: InsecureRequestWarning: Unverified HTTPS request is being made to host 'cmi-eu-2'. Adding certificate verification is strongly advised. See: https://urllib3.readthedocs.io/en/latest/advanced-usage.html#tls-warnings\n",
      "  warnings.warn(\n"
     ]
    },
    {
     "data": {
      "text/plain": [
       "['150 CALL', 'FUTURE', '130 PUT']"
      ]
     },
     "execution_count": 32,
     "metadata": {},
     "output_type": "execute_result"
    }
   ],
   "source": [
    "basic_bot.get_all_products()"
   ]
  },
  {
   "cell_type": "code",
   "execution_count": 33,
   "id": "c53ee2c0-408f-4bbf-aa26-dd10baa0c7ec",
   "metadata": {
    "execution": {
     "iopub.execute_input": "2024-07-26T08:39:24.064982Z",
     "iopub.status.busy": "2024-07-26T08:39:24.064657Z",
     "iopub.status.idle": "2024-07-26T08:39:24.186329Z",
     "shell.execute_reply": "2024-07-26T08:39:24.185958Z",
     "shell.execute_reply.started": "2024-07-26T08:39:24.064967Z"
    }
   },
   "outputs": [
    {
     "name": "stderr",
     "output_type": "stream",
     "text": [
      "/Users/jchen/Code/mm/.venv/lib/python3.12/site-packages/urllib3/connectionpool.py:1099: InsecureRequestWarning: Unverified HTTPS request is being made to host 'cmi-eu-2'. Adding certificate verification is strongly advised. See: https://urllib3.readthedocs.io/en/latest/advanced-usage.html#tls-warnings\n",
      "  warnings.warn(\n",
      "/Users/jchen/Code/mm/.venv/lib/python3.12/site-packages/urllib3/connectionpool.py:1099: InsecureRequestWarning: Unverified HTTPS request is being made to host 'cmi-eu-2'. Adding certificate verification is strongly advised. See: https://urllib3.readthedocs.io/en/latest/advanced-usage.html#tls-warnings\n",
      "  warnings.warn(\n",
      "/Users/jchen/Code/mm/.venv/lib/python3.12/site-packages/urllib3/connectionpool.py:1099: InsecureRequestWarning: Unverified HTTPS request is being made to host 'cmi-eu-2'. Adding certificate verification is strongly advised. See: https://urllib3.readthedocs.io/en/latest/advanced-usage.html#tls-warnings\n",
      "  warnings.warn(\n",
      "/Users/jchen/Code/mm/.venv/lib/python3.12/site-packages/urllib3/connectionpool.py:1099: InsecureRequestWarning: Unverified HTTPS request is being made to host 'cmi-eu-2'. Adding certificate verification is strongly advised. See: https://urllib3.readthedocs.io/en/latest/advanced-usage.html#tls-warnings\n",
      "  warnings.warn(\n",
      "/Users/jchen/Code/mm/.venv/lib/python3.12/site-packages/urllib3/connectionpool.py:1099: InsecureRequestWarning: Unverified HTTPS request is being made to host 'cmi-eu-2'. Adding certificate verification is strongly advised. See: https://urllib3.readthedocs.io/en/latest/advanced-usage.html#tls-warnings\n",
      "  warnings.warn(\n",
      "/Users/jchen/Code/mm/.venv/lib/python3.12/site-packages/urllib3/connectionpool.py:1099: InsecureRequestWarning: Unverified HTTPS request is being made to host 'cmi-eu-2'. Adding certificate verification is strongly advised. See: https://urllib3.readthedocs.io/en/latest/advanced-usage.html#tls-warnings\n",
      "  warnings.warn(\n",
      "/Users/jchen/Code/mm/.venv/lib/python3.12/site-packages/urllib3/connectionpool.py:1099: InsecureRequestWarning: Unverified HTTPS request is being made to host 'cmi-eu-2'. Adding certificate verification is strongly advised. See: https://urllib3.readthedocs.io/en/latest/advanced-usage.html#tls-warnings\n",
      "  warnings.warn(\n",
      "/Users/jchen/Code/mm/.venv/lib/python3.12/site-packages/urllib3/connectionpool.py:1099: InsecureRequestWarning: Unverified HTTPS request is being made to host 'cmi-eu-2'. Adding certificate verification is strongly advised. See: https://urllib3.readthedocs.io/en/latest/advanced-usage.html#tls-warnings\n",
      "  warnings.warn(\n",
      "/Users/jchen/Code/mm/.venv/lib/python3.12/site-packages/urllib3/connectionpool.py:1099: InsecureRequestWarning: Unverified HTTPS request is being made to host 'cmi-eu-2'. Adding certificate verification is strongly advised. See: https://urllib3.readthedocs.io/en/latest/advanced-usage.html#tls-warnings\n",
      "  warnings.warn(\n",
      "/Users/jchen/Code/mm/.venv/lib/python3.12/site-packages/urllib3/connectionpool.py:1099: InsecureRequestWarning: Unverified HTTPS request is being made to host 'cmi-eu-2'. Adding certificate verification is strongly advised. See: https://urllib3.readthedocs.io/en/latest/advanced-usage.html#tls-warnings\n",
      "  warnings.warn(\n",
      "/Users/jchen/Code/mm/.venv/lib/python3.12/site-packages/urllib3/connectionpool.py:1099: InsecureRequestWarning: Unverified HTTPS request is being made to host 'cmi-eu-2'. Adding certificate verification is strongly advised. See: https://urllib3.readthedocs.io/en/latest/advanced-usage.html#tls-warnings\n",
      "  warnings.warn(\n",
      "/Users/jchen/Code/mm/.venv/lib/python3.12/site-packages/urllib3/connectionpool.py:1099: InsecureRequestWarning: Unverified HTTPS request is being made to host 'cmi-eu-2'. Adding certificate verification is strongly advised. See: https://urllib3.readthedocs.io/en/latest/advanced-usage.html#tls-warnings\n",
      "  warnings.warn(\n",
      "/Users/jchen/Code/mm/.venv/lib/python3.12/site-packages/urllib3/connectionpool.py:1099: InsecureRequestWarning: Unverified HTTPS request is being made to host 'cmi-eu-2'. Adding certificate verification is strongly advised. See: https://urllib3.readthedocs.io/en/latest/advanced-usage.html#tls-warnings\n",
      "  warnings.warn(\n",
      "/Users/jchen/Code/mm/.venv/lib/python3.12/site-packages/urllib3/connectionpool.py:1099: InsecureRequestWarning: Unverified HTTPS request is being made to host 'cmi-eu-2'. Adding certificate verification is strongly advised. See: https://urllib3.readthedocs.io/en/latest/advanced-usage.html#tls-warnings\n",
      "  warnings.warn(\n"
     ]
    },
    {
     "name": "stdout",
     "output_type": "stream",
     "text": [
      "Failed to send order, {'product': 'FUTURE', 'side': 'SELL', 'price': 138.5, 'volume': 250}\n",
      "{'errorCode': 'BAD_REQUEST', 'message': 'Volume of 250 specified would exceed the exposure limit. Canceled.', 'timestamp': '2024-07-26T10:21:31.164290766Z', 'requestUri': '/api/order'}\n"
     ]
    },
    {
     "name": "stderr",
     "output_type": "stream",
     "text": [
      "/Users/jchen/Code/mm/.venv/lib/python3.12/site-packages/urllib3/connectionpool.py:1099: InsecureRequestWarning: Unverified HTTPS request is being made to host 'cmi-eu-2'. Adding certificate verification is strongly advised. See: https://urllib3.readthedocs.io/en/latest/advanced-usage.html#tls-warnings\n",
      "  warnings.warn(\n",
      "/Users/jchen/Code/mm/.venv/lib/python3.12/site-packages/urllib3/connectionpool.py:1099: InsecureRequestWarning: Unverified HTTPS request is being made to host 'cmi-eu-2'. Adding certificate verification is strongly advised. See: https://urllib3.readthedocs.io/en/latest/advanced-usage.html#tls-warnings\n",
      "  warnings.warn(\n",
      "/Users/jchen/Code/mm/.venv/lib/python3.12/site-packages/urllib3/connectionpool.py:1099: InsecureRequestWarning: Unverified HTTPS request is being made to host 'cmi-eu-2'. Adding certificate verification is strongly advised. See: https://urllib3.readthedocs.io/en/latest/advanced-usage.html#tls-warnings\n",
      "  warnings.warn(\n",
      "/Users/jchen/Code/mm/.venv/lib/python3.12/site-packages/urllib3/connectionpool.py:1099: InsecureRequestWarning: Unverified HTTPS request is being made to host 'cmi-eu-2'. Adding certificate verification is strongly advised. See: https://urllib3.readthedocs.io/en/latest/advanced-usage.html#tls-warnings\n",
      "  warnings.warn(\n"
     ]
    },
    {
     "name": "stdout",
     "output_type": "stream",
     "text": [
      "Failed to send order, {'product': 'FUTURE', 'side': 'SELL', 'price': 134.5, 'volume': 250}\n",
      "{'errorCode': 'BAD_REQUEST', 'message': 'Volume of 250 specified would exceed the exposure limit. Canceled.', 'timestamp': '2024-07-26T10:21:37.425755368Z', 'requestUri': '/api/order'}\n"
     ]
    },
    {
     "name": "stderr",
     "output_type": "stream",
     "text": [
      "/Users/jchen/Code/mm/.venv/lib/python3.12/site-packages/urllib3/connectionpool.py:1099: InsecureRequestWarning: Unverified HTTPS request is being made to host 'cmi-eu-2'. Adding certificate verification is strongly advised. See: https://urllib3.readthedocs.io/en/latest/advanced-usage.html#tls-warnings\n",
      "  warnings.warn(\n",
      "/Users/jchen/Code/mm/.venv/lib/python3.12/site-packages/urllib3/connectionpool.py:1099: InsecureRequestWarning: Unverified HTTPS request is being made to host 'cmi-eu-2'. Adding certificate verification is strongly advised. See: https://urllib3.readthedocs.io/en/latest/advanced-usage.html#tls-warnings\n",
      "  warnings.warn(\n",
      "/Users/jchen/Code/mm/.venv/lib/python3.12/site-packages/urllib3/connectionpool.py:1099: InsecureRequestWarning: Unverified HTTPS request is being made to host 'cmi-eu-2'. Adding certificate verification is strongly advised. See: https://urllib3.readthedocs.io/en/latest/advanced-usage.html#tls-warnings\n",
      "  warnings.warn(\n",
      "/Users/jchen/Code/mm/.venv/lib/python3.12/site-packages/urllib3/connectionpool.py:1099: InsecureRequestWarning: Unverified HTTPS request is being made to host 'cmi-eu-2'. Adding certificate verification is strongly advised. See: https://urllib3.readthedocs.io/en/latest/advanced-usage.html#tls-warnings\n",
      "  warnings.warn(\n",
      "/Users/jchen/Code/mm/.venv/lib/python3.12/site-packages/urllib3/connectionpool.py:1099: InsecureRequestWarning: Unverified HTTPS request is being made to host 'cmi-eu-2'. Adding certificate verification is strongly advised. See: https://urllib3.readthedocs.io/en/latest/advanced-usage.html#tls-warnings\n",
      "  warnings.warn(\n",
      "/Users/jchen/Code/mm/.venv/lib/python3.12/site-packages/urllib3/connectionpool.py:1099: InsecureRequestWarning: Unverified HTTPS request is being made to host 'cmi-eu-2'. Adding certificate verification is strongly advised. See: https://urllib3.readthedocs.io/en/latest/advanced-usage.html#tls-warnings\n",
      "  warnings.warn(\n",
      "/Users/jchen/Code/mm/.venv/lib/python3.12/site-packages/urllib3/connectionpool.py:1099: InsecureRequestWarning: Unverified HTTPS request is being made to host 'cmi-eu-2'. Adding certificate verification is strongly advised. See: https://urllib3.readthedocs.io/en/latest/advanced-usage.html#tls-warnings\n",
      "  warnings.warn(\n",
      "/Users/jchen/Code/mm/.venv/lib/python3.12/site-packages/urllib3/connectionpool.py:1099: InsecureRequestWarning: Unverified HTTPS request is being made to host 'cmi-eu-2'. Adding certificate verification is strongly advised. See: https://urllib3.readthedocs.io/en/latest/advanced-usage.html#tls-warnings\n",
      "  warnings.warn(\n"
     ]
    },
    {
     "name": "stdout",
     "output_type": "stream",
     "text": [
      "Failed to send order, {'product': 'FUTURE', 'side': 'SELL', 'price': 128.5, 'volume': 250}\n",
      "{'errorCode': 'BAD_REQUEST', 'message': 'Volume of 250 specified would exceed the exposure limit. Canceled.', 'timestamp': '2024-07-26T10:23:26.676485709Z', 'requestUri': '/api/order'}\n"
     ]
    },
    {
     "name": "stderr",
     "output_type": "stream",
     "text": [
      "/Users/jchen/Code/mm/.venv/lib/python3.12/site-packages/urllib3/connectionpool.py:1099: InsecureRequestWarning: Unverified HTTPS request is being made to host 'cmi-eu-2'. Adding certificate verification is strongly advised. See: https://urllib3.readthedocs.io/en/latest/advanced-usage.html#tls-warnings\n",
      "  warnings.warn(\n",
      "/Users/jchen/Code/mm/.venv/lib/python3.12/site-packages/urllib3/connectionpool.py:1099: InsecureRequestWarning: Unverified HTTPS request is being made to host 'cmi-eu-2'. Adding certificate verification is strongly advised. See: https://urllib3.readthedocs.io/en/latest/advanced-usage.html#tls-warnings\n",
      "  warnings.warn(\n",
      "/Users/jchen/Code/mm/.venv/lib/python3.12/site-packages/urllib3/connectionpool.py:1099: InsecureRequestWarning: Unverified HTTPS request is being made to host 'cmi-eu-2'. Adding certificate verification is strongly advised. See: https://urllib3.readthedocs.io/en/latest/advanced-usage.html#tls-warnings\n",
      "  warnings.warn(\n"
     ]
    },
    {
     "name": "stdout",
     "output_type": "stream",
     "text": [
      "Failed to cancel order\n"
     ]
    },
    {
     "name": "stderr",
     "output_type": "stream",
     "text": [
      "/Users/jchen/Code/mm/.venv/lib/python3.12/site-packages/urllib3/connectionpool.py:1099: InsecureRequestWarning: Unverified HTTPS request is being made to host 'cmi-eu-2'. Adding certificate verification is strongly advised. See: https://urllib3.readthedocs.io/en/latest/advanced-usage.html#tls-warnings\n",
      "  warnings.warn(\n"
     ]
    },
    {
     "ename": "JSONDecodeError",
     "evalue": "Expecting value: line 1 column 1 (char 0)",
     "output_type": "error",
     "traceback": [
      "\u001b[0;31m---------------------------------------------------------------------------\u001b[0m",
      "\u001b[0;31mJSONDecodeError\u001b[0m                           Traceback (most recent call last)",
      "File \u001b[0;32m~/Code/mm/.venv/lib/python3.12/site-packages/requests/models.py:974\u001b[0m, in \u001b[0;36mResponse.json\u001b[0;34m(self, **kwargs)\u001b[0m\n\u001b[1;32m    973\u001b[0m \u001b[38;5;28;01mtry\u001b[39;00m:\n\u001b[0;32m--> 974\u001b[0m     \u001b[38;5;28;01mreturn\u001b[39;00m \u001b[43mcomplexjson\u001b[49m\u001b[38;5;241;43m.\u001b[39;49m\u001b[43mloads\u001b[49m\u001b[43m(\u001b[49m\u001b[38;5;28;43mself\u001b[39;49m\u001b[38;5;241;43m.\u001b[39;49m\u001b[43mtext\u001b[49m\u001b[43m,\u001b[49m\u001b[43m \u001b[49m\u001b[38;5;241;43m*\u001b[39;49m\u001b[38;5;241;43m*\u001b[39;49m\u001b[43mkwargs\u001b[49m\u001b[43m)\u001b[49m\n\u001b[1;32m    975\u001b[0m \u001b[38;5;28;01mexcept\u001b[39;00m JSONDecodeError \u001b[38;5;28;01mas\u001b[39;00m e:\n\u001b[1;32m    976\u001b[0m     \u001b[38;5;66;03m# Catch JSON-related errors and raise as requests.JSONDecodeError\u001b[39;00m\n\u001b[1;32m    977\u001b[0m     \u001b[38;5;66;03m# This aliases json.JSONDecodeError and simplejson.JSONDecodeError\u001b[39;00m\n",
      "File \u001b[0;32m/opt/homebrew/Cellar/python@3.12/3.12.4/Frameworks/Python.framework/Versions/3.12/lib/python3.12/json/__init__.py:346\u001b[0m, in \u001b[0;36mloads\u001b[0;34m(s, cls, object_hook, parse_float, parse_int, parse_constant, object_pairs_hook, **kw)\u001b[0m\n\u001b[1;32m    343\u001b[0m \u001b[38;5;28;01mif\u001b[39;00m (\u001b[38;5;28mcls\u001b[39m \u001b[38;5;129;01mis\u001b[39;00m \u001b[38;5;28;01mNone\u001b[39;00m \u001b[38;5;129;01mand\u001b[39;00m object_hook \u001b[38;5;129;01mis\u001b[39;00m \u001b[38;5;28;01mNone\u001b[39;00m \u001b[38;5;129;01mand\u001b[39;00m\n\u001b[1;32m    344\u001b[0m         parse_int \u001b[38;5;129;01mis\u001b[39;00m \u001b[38;5;28;01mNone\u001b[39;00m \u001b[38;5;129;01mand\u001b[39;00m parse_float \u001b[38;5;129;01mis\u001b[39;00m \u001b[38;5;28;01mNone\u001b[39;00m \u001b[38;5;129;01mand\u001b[39;00m\n\u001b[1;32m    345\u001b[0m         parse_constant \u001b[38;5;129;01mis\u001b[39;00m \u001b[38;5;28;01mNone\u001b[39;00m \u001b[38;5;129;01mand\u001b[39;00m object_pairs_hook \u001b[38;5;129;01mis\u001b[39;00m \u001b[38;5;28;01mNone\u001b[39;00m \u001b[38;5;129;01mand\u001b[39;00m \u001b[38;5;129;01mnot\u001b[39;00m kw):\n\u001b[0;32m--> 346\u001b[0m     \u001b[38;5;28;01mreturn\u001b[39;00m \u001b[43m_default_decoder\u001b[49m\u001b[38;5;241;43m.\u001b[39;49m\u001b[43mdecode\u001b[49m\u001b[43m(\u001b[49m\u001b[43ms\u001b[49m\u001b[43m)\u001b[49m\n\u001b[1;32m    347\u001b[0m \u001b[38;5;28;01mif\u001b[39;00m \u001b[38;5;28mcls\u001b[39m \u001b[38;5;129;01mis\u001b[39;00m \u001b[38;5;28;01mNone\u001b[39;00m:\n",
      "File \u001b[0;32m/opt/homebrew/Cellar/python@3.12/3.12.4/Frameworks/Python.framework/Versions/3.12/lib/python3.12/json/decoder.py:337\u001b[0m, in \u001b[0;36mJSONDecoder.decode\u001b[0;34m(self, s, _w)\u001b[0m\n\u001b[1;32m    333\u001b[0m \u001b[38;5;250m\u001b[39m\u001b[38;5;124;03m\"\"\"Return the Python representation of ``s`` (a ``str`` instance\u001b[39;00m\n\u001b[1;32m    334\u001b[0m \u001b[38;5;124;03mcontaining a JSON document).\u001b[39;00m\n\u001b[1;32m    335\u001b[0m \n\u001b[1;32m    336\u001b[0m \u001b[38;5;124;03m\"\"\"\u001b[39;00m\n\u001b[0;32m--> 337\u001b[0m obj, end \u001b[38;5;241m=\u001b[39m \u001b[38;5;28;43mself\u001b[39;49m\u001b[38;5;241;43m.\u001b[39;49m\u001b[43mraw_decode\u001b[49m\u001b[43m(\u001b[49m\u001b[43ms\u001b[49m\u001b[43m,\u001b[49m\u001b[43m \u001b[49m\u001b[43midx\u001b[49m\u001b[38;5;241;43m=\u001b[39;49m\u001b[43m_w\u001b[49m\u001b[43m(\u001b[49m\u001b[43ms\u001b[49m\u001b[43m,\u001b[49m\u001b[43m \u001b[49m\u001b[38;5;241;43m0\u001b[39;49m\u001b[43m)\u001b[49m\u001b[38;5;241;43m.\u001b[39;49m\u001b[43mend\u001b[49m\u001b[43m(\u001b[49m\u001b[43m)\u001b[49m\u001b[43m)\u001b[49m\n\u001b[1;32m    338\u001b[0m end \u001b[38;5;241m=\u001b[39m _w(s, end)\u001b[38;5;241m.\u001b[39mend()\n",
      "File \u001b[0;32m/opt/homebrew/Cellar/python@3.12/3.12.4/Frameworks/Python.framework/Versions/3.12/lib/python3.12/json/decoder.py:355\u001b[0m, in \u001b[0;36mJSONDecoder.raw_decode\u001b[0;34m(self, s, idx)\u001b[0m\n\u001b[1;32m    354\u001b[0m \u001b[38;5;28;01mexcept\u001b[39;00m \u001b[38;5;167;01mStopIteration\u001b[39;00m \u001b[38;5;28;01mas\u001b[39;00m err:\n\u001b[0;32m--> 355\u001b[0m     \u001b[38;5;28;01mraise\u001b[39;00m JSONDecodeError(\u001b[38;5;124m\"\u001b[39m\u001b[38;5;124mExpecting value\u001b[39m\u001b[38;5;124m\"\u001b[39m, s, err\u001b[38;5;241m.\u001b[39mvalue) \u001b[38;5;28;01mfrom\u001b[39;00m \u001b[38;5;28;01mNone\u001b[39;00m\n\u001b[1;32m    356\u001b[0m \u001b[38;5;28;01mreturn\u001b[39;00m obj, end\n",
      "\u001b[0;31mJSONDecodeError\u001b[0m: Expecting value: line 1 column 1 (char 0)",
      "\nDuring handling of the above exception, another exception occurred:\n",
      "\u001b[0;31mJSONDecodeError\u001b[0m                           Traceback (most recent call last)",
      "Cell \u001b[0;32mIn[33], line 26\u001b[0m\n\u001b[1;32m     24\u001b[0m basic_bot\u001b[38;5;241m.\u001b[39msend_order(product\u001b[38;5;241m=\u001b[39m\u001b[38;5;124m\"\u001b[39m\u001b[38;5;124mFUTURE\u001b[39m\u001b[38;5;124m\"\u001b[39m, price\u001b[38;5;241m=\u001b[39mtheo\u001b[38;5;241m-\u001b[39m\u001b[38;5;241m0.5\u001b[39m, side\u001b[38;5;241m=\u001b[39m\u001b[38;5;124m\"\u001b[39m\u001b[38;5;124mBUY\u001b[39m\u001b[38;5;124m\"\u001b[39m, volume\u001b[38;5;241m=\u001b[39m\u001b[38;5;241m250\u001b[39m)\n\u001b[1;32m     25\u001b[0m basic_bot\u001b[38;5;241m.\u001b[39msend_order(product\u001b[38;5;241m=\u001b[39m\u001b[38;5;124m\"\u001b[39m\u001b[38;5;124mFUTURE\u001b[39m\u001b[38;5;124m\"\u001b[39m, price\u001b[38;5;241m=\u001b[39mtheo\u001b[38;5;241m+\u001b[39m\u001b[38;5;241m0.5\u001b[39m, side\u001b[38;5;241m=\u001b[39m\u001b[38;5;124m\"\u001b[39m\u001b[38;5;124mSELL\u001b[39m\u001b[38;5;124m\"\u001b[39m, volume\u001b[38;5;241m=\u001b[39m\u001b[38;5;241m250\u001b[39m)\n\u001b[0;32m---> 26\u001b[0m \u001b[43mbasic_bot\u001b[49m\u001b[38;5;241;43m.\u001b[39;49m\u001b[43mcancel_all_orders\u001b[49m\u001b[43m(\u001b[49m\u001b[43m)\u001b[49m\n\u001b[1;32m     27\u001b[0m \u001b[38;5;66;03m# call_theo = max( 0, (theo - 150 + cnt / 5))\u001b[39;00m\n\u001b[1;32m     28\u001b[0m \u001b[38;5;66;03m# put_theo = max (0, (130 - theo + cnt / 5))    \u001b[39;00m\n\u001b[1;32m     29\u001b[0m \u001b[38;5;66;03m# basic_bot.send_order(product=\"150 CALL\", price=round_down_to_tick(call_theo-0.25, 0.25), side=\"BUY\", volume=250)\u001b[39;00m\n\u001b[1;32m     30\u001b[0m \u001b[38;5;66;03m# basic_bot.send_order(product=\"150 CALL\", price=round_up_to_tick(theo+0.25, 0.25), side=\"SELL\", volume=250)\u001b[39;00m\n\u001b[1;32m     31\u001b[0m \u001b[38;5;66;03m# basic_bot.send_order(product=\"130 PUT\", price=round_down_to_tick(theo-0.25, 0.25), side=\"SELL\", volume=250)\u001b[39;00m\n\u001b[1;32m     32\u001b[0m \u001b[38;5;66;03m# basic_bot.send_order(product=\"130 PUT\", price=round_up_to_tick(theo+0.25, 0.25), side=\"SELL\", volume=250)\u001b[39;00m\n",
      "Cell \u001b[0;32mIn[30], line 48\u001b[0m, in \u001b[0;36mBasicCMIBot.cancel_all_orders\u001b[0;34m(self)\u001b[0m\n\u001b[1;32m     46\u001b[0m \u001b[38;5;28;01mif\u001b[39;00m response\u001b[38;5;241m.\u001b[39mstatus_code \u001b[38;5;241m!=\u001b[39m \u001b[38;5;241m200\u001b[39m:\n\u001b[1;32m     47\u001b[0m     \u001b[38;5;28mprint\u001b[39m(\u001b[38;5;124m\"\u001b[39m\u001b[38;5;124mFailed to cancel order\u001b[39m\u001b[38;5;124m\"\u001b[39m)\n\u001b[0;32m---> 48\u001b[0m     \u001b[38;5;28mprint\u001b[39m(\u001b[43mresponse\u001b[49m\u001b[38;5;241;43m.\u001b[39;49m\u001b[43mjson\u001b[49m\u001b[43m(\u001b[49m\u001b[43m)\u001b[49m)\n",
      "File \u001b[0;32m~/Code/mm/.venv/lib/python3.12/site-packages/requests/models.py:978\u001b[0m, in \u001b[0;36mResponse.json\u001b[0;34m(self, **kwargs)\u001b[0m\n\u001b[1;32m    974\u001b[0m     \u001b[38;5;28;01mreturn\u001b[39;00m complexjson\u001b[38;5;241m.\u001b[39mloads(\u001b[38;5;28mself\u001b[39m\u001b[38;5;241m.\u001b[39mtext, \u001b[38;5;241m*\u001b[39m\u001b[38;5;241m*\u001b[39mkwargs)\n\u001b[1;32m    975\u001b[0m \u001b[38;5;28;01mexcept\u001b[39;00m JSONDecodeError \u001b[38;5;28;01mas\u001b[39;00m e:\n\u001b[1;32m    976\u001b[0m     \u001b[38;5;66;03m# Catch JSON-related errors and raise as requests.JSONDecodeError\u001b[39;00m\n\u001b[1;32m    977\u001b[0m     \u001b[38;5;66;03m# This aliases json.JSONDecodeError and simplejson.JSONDecodeError\u001b[39;00m\n\u001b[0;32m--> 978\u001b[0m     \u001b[38;5;28;01mraise\u001b[39;00m RequestsJSONDecodeError(e\u001b[38;5;241m.\u001b[39mmsg, e\u001b[38;5;241m.\u001b[39mdoc, e\u001b[38;5;241m.\u001b[39mpos)\n",
      "\u001b[0;31mJSONDecodeError\u001b[0m: Expecting value: line 1 column 1 (char 0)"
     ]
    }
   ],
   "source": [
    "from math import ceil, floor\n",
    "\n",
    "\n",
    "def round_down_to_tick(price: float, tick_size: float = 0.1):\n",
    "    \"\"\"\n",
    "    Rounds a price down to the nearest tick, e.g. if the tick size is 0.10, a price of 0.97 will get rounded to 0.90.\n",
    "    \"\"\"\n",
    "    return floor(price / tick_size) * tick_size\n",
    "\n",
    "\n",
    "def round_up_to_tick(price: float, tick_size: float = 0.1):\n",
    "    \"\"\"\n",
    "    Rounds a price up to the nearest tick, e.g. if the tick size is 0.10, a price of 1.34 will get rounded to 1.40.\n",
    "    \"\"\"\n",
    "    return ceil(price / tick_size) * tick_size\n",
    "\n",
    "theo = 140\n",
    "cnt = 20.0\n",
    "while True:\n",
    "    price = int(input())\n",
    "    theo += (price - 7)\n",
    "    cnt -= 1\n",
    "\n",
    "    basic_bot.send_order(product=\"FUTURE\", price=theo-0.5, side=\"BUY\", volume=250)\n",
    "    basic_bot.send_order(product=\"FUTURE\", price=theo+0.5, side=\"SELL\", volume=250)\n",
    "    basic_bot.cancel_all_orders()\n",
    "    # call_theo = max( 0, (theo - 150 + cnt / 5))\n",
    "    # put_theo = max (0, (130 - theo + cnt / 5))    \n",
    "    # basic_bot.send_order(product=\"150 CALL\", price=round_down_to_tick(call_theo-0.25, 0.25), side=\"BUY\", volume=250)\n",
    "    # basic_bot.send_order(product=\"150 CALL\", price=round_up_to_tick(theo+0.25, 0.25), side=\"SELL\", volume=250)\n",
    "    # basic_bot.send_order(product=\"130 PUT\", price=round_down_to_tick(theo-0.25, 0.25), side=\"SELL\", volume=250)\n",
    "    # basic_bot.send_order(product=\"130 PUT\", price=round_up_to_tick(theo+0.25, 0.25), side=\"SELL\", volume=250)\n",
    "    \n"
   ]
  },
  {
   "cell_type": "markdown",
   "id": "9fae4ced-b222-4f67-932f-e2e613b677c3",
   "metadata": {},
   "source": [
    "# Bot That Subscribes to the Exchange"
   ]
  },
  {
   "cell_type": "code",
   "execution_count": 10,
   "id": "0ca8569a-a31d-4a60-878c-c75366e25f26",
   "metadata": {
    "execution": {
     "iopub.execute_input": "2024-07-26T05:04:19.374854Z",
     "iopub.status.busy": "2024-07-26T05:04:19.374550Z",
     "iopub.status.idle": "2024-07-26T05:04:19.380228Z",
     "shell.execute_reply": "2024-07-26T05:04:19.379880Z",
     "shell.execute_reply.started": "2024-07-26T05:04:19.374837Z"
    }
   },
   "outputs": [],
   "source": [
    "@dataclass\n",
    "class SubscribableCMIBotBase(BasicCMIBot, ABC):\n",
    "    @abstractmethod\n",
    "    def on_orderbook(self, orderbook):\n",
    "        raise NotImplementedError(\"You must implement the on_orderbook method!\")\n",
    "\n",
    "    @abstractmethod\n",
    "    def on_trade(self, trade):\n",
    "        raise NotImplementedError(\"You must implement the on_trade method!\")\n",
    "\n",
    "    def __post_init__(self):\n",
    "        self.products = self.get_all_products()\n",
    "        for product in self.products:\n",
    "            product_url = f\"{self._cmi_url}/api/order/{product}/stream\"\n",
    "            product_thread = SSEThread(\n",
    "                bearer=self.auth_token,\n",
    "                url=product_url,\n",
    "                handler_method=self._on_orderbook_wrapper,\n",
    "            )\n",
    "            product_thread.start()\n",
    "\n",
    "        trades_url = f\"{self._cmi_url}/api/trade/stream\"\n",
    "        trades_thread = SSEThread(\n",
    "            bearer=self.auth_token, url=trades_url, handler_method=self.on_trade\n",
    "        )\n",
    "        trades_thread.start()\n",
    "\n",
    "    def _on_orderbook_wrapper(self, orderbook: Dict[str, Any]):\n",
    "        orderbook[\"product\"] = orderbook.pop(\"productsymbol\")\n",
    "        orderbook[\"buy_orders\"] = sorted(\n",
    "            [\n",
    "                {\n",
    "                    \"price\": float(price),\n",
    "                    \"volume\": volumes[\"marketVolume\"],\n",
    "                    \"own_volume\": volumes[\"userVolume\"],\n",
    "                }\n",
    "                for price, volumes in orderbook[\"buyOrders\"].items()\n",
    "            ],\n",
    "            key=lambda d: -d[\"price\"],\n",
    "        )\n",
    "        orderbook[\"sell_orders\"] = sorted(\n",
    "            [\n",
    "                {\n",
    "                    \"price\": float(price),\n",
    "                    \"volume\": int(volumes[\"marketVolume\"]),\n",
    "                    \"own_volume\": int(volumes[\"userVolume\"]),\n",
    "                }\n",
    "                for price, volumes in orderbook[\"sellOrders\"].items()\n",
    "            ],\n",
    "            key=lambda d: d[\"price\"],\n",
    "        )\n",
    "        del orderbook[\"buyOrders\"]\n",
    "        del orderbook[\"sellOrders\"]\n",
    "        del orderbook[\"midPrice\"]\n",
    "        self.on_orderbook(orderbook)\n",
    "\n",
    "    def keep_alive(self):\n",
    "        while True:\n",
    "            time.sleep(5)"
   ]
  },
  {
   "cell_type": "code",
   "execution_count": 11,
   "id": "6f5587c0-568a-44b1-ab2a-5fac3495e94b",
   "metadata": {
    "execution": {
     "iopub.execute_input": "2024-07-26T05:04:20.082843Z",
     "iopub.status.busy": "2024-07-26T05:04:20.082570Z",
     "iopub.status.idle": "2024-07-26T05:04:20.085287Z",
     "shell.execute_reply": "2024-07-26T05:04:20.084956Z",
     "shell.execute_reply.started": "2024-07-26T05:04:20.082827Z"
    }
   },
   "outputs": [],
   "source": [
    "class ExampleBot(SubscribableCMIBotBase):\n",
    "\n",
    "    def on_orderbook(self, orderbook):\n",
    "        print(orderbook)\n",
    "\n",
    "    def on_trade(self, trade):\n",
    "        print(trade)"
   ]
  },
  {
   "cell_type": "code",
   "execution_count": 12,
   "id": "a845c2bd-0f3f-4eba-9b57-c0f7808077de",
   "metadata": {
    "execution": {
     "iopub.execute_input": "2024-07-26T05:04:21.128578Z",
     "iopub.status.busy": "2024-07-26T05:04:21.128271Z",
     "iopub.status.idle": "2024-07-26T05:04:21.287884Z",
     "shell.execute_reply": "2024-07-26T05:04:21.287463Z",
     "shell.execute_reply.started": "2024-07-26T05:04:21.128561Z"
    }
   },
   "outputs": [],
   "source": [
    "smart_bot = ExampleBot(username=USERNAME, password=PASSWORD)\n",
    "\n",
    "bot_thread = threading.Thread(target=smart_bot.keep_alive)\n",
    "bot_thread.daemon = True\n",
    "bot_thread.start()"
   ]
  },
  {
   "cell_type": "code",
   "execution_count": 13,
   "id": "1e1486bc-287b-4ae8-89af-2388667397ec",
   "metadata": {
    "execution": {
     "iopub.execute_input": "2024-07-26T05:04:27.132340Z",
     "iopub.status.busy": "2024-07-26T05:04:27.132031Z",
     "iopub.status.idle": "2024-07-26T05:04:27.232758Z",
     "shell.execute_reply": "2024-07-26T05:04:27.232387Z",
     "shell.execute_reply.started": "2024-07-26T05:04:27.132322Z"
    }
   },
   "outputs": [
    {
     "name": "stdout",
     "output_type": "stream",
     "text": [
      "{'tickSize': 1, 'product': 'example', 'buy_orders': [{'price': 20.0, 'volume': 360.0, 'own_volume': 360.0}], 'sell_orders': []}\n"
     ]
    },
    {
     "data": {
      "text/plain": [
       "{'id': 'ac4c5174-45b8-4e08-9079-5a4fe1e1a846',\n",
       " 'status': 'ACTIVE',\n",
       " 'product': 'example',\n",
       " 'side': 'BUY',\n",
       " 'price': 20,\n",
       " 'volume': 30,\n",
       " 'filled': 0,\n",
       " 'message': '',\n",
       " 'user': 'test',\n",
       " 'timestamp': '2024-07-26T05:04:27.222098775Z'}"
      ]
     },
     "execution_count": 13,
     "metadata": {},
     "output_type": "execute_result"
    },
    {
     "name": "stdout",
     "output_type": "stream",
     "text": [
      "\n"
     ]
    }
   ],
   "source": [
    "basic_bot.send_order(product=\"example\", price=20, side=\"BUY\", volume=30)"
   ]
  },
  {
   "cell_type": "code",
   "execution_count": null,
   "id": "144e4a25-3a67-4678-b86f-0994fd442d00",
   "metadata": {},
   "outputs": [],
   "source": []
  }
 ],
 "metadata": {
  "kernelspec": {
   "display_name": "Python 3 (ipykernel)",
   "language": "python",
   "name": "python3"
  },
  "language_info": {
   "codemirror_mode": {
    "name": "ipython",
    "version": 3
   },
   "file_extension": ".py",
   "mimetype": "text/x-python",
   "name": "python",
   "nbconvert_exporter": "python",
   "pygments_lexer": "ipython3",
   "version": "3.12.4"
  }
 },
 "nbformat": 4,
 "nbformat_minor": 5
}
