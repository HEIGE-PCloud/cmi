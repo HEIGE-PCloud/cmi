{
 "cells": [
  {
   "cell_type": "code",
   "execution_count": 1,
   "id": "a8c23c4c-e953-4c55-8ad2-a4aef3b61f44",
   "metadata": {
    "execution": {
     "iopub.execute_input": "2024-07-18T15:25:47.109371Z",
     "iopub.status.busy": "2024-07-18T15:25:47.109050Z",
     "iopub.status.idle": "2024-07-18T15:25:47.114083Z",
     "shell.execute_reply": "2024-07-18T15:25:47.113699Z",
     "shell.execute_reply.started": "2024-07-18T15:25:47.109352Z"
    }
   },
   "outputs": [],
   "source": [
    "n_cards = 20"
   ]
  },
  {
   "cell_type": "code",
   "execution_count": 49,
   "id": "58b01a47-56aa-415a-bb12-afaac3e40dbe",
   "metadata": {
    "execution": {
     "iopub.execute_input": "2024-07-18T15:43:27.020075Z",
     "iopub.status.busy": "2024-07-18T15:43:27.019858Z",
     "iopub.status.idle": "2024-07-18T15:43:27.024952Z",
     "shell.execute_reply": "2024-07-18T15:43:27.024553Z",
     "shell.execute_reply.started": "2024-07-18T15:43:27.020059Z"
    }
   },
   "outputs": [],
   "source": [
    "import random\n",
    "from collections import Counter\n",
    "\n",
    "import numpy as np\n",
    "import pandas as pd\n",
    "\n",
    "\n",
    "def simulate_draws(remaining_cards, sample_size, num_draws=5_000_000):\n",
    "    remaining_cards_array = np.array(remaining_cards)\n",
    "    sums = []\n",
    "    for i in range(num_draws):\n",
    "        sums.append(sum(np.random.choice(remaining_cards_array, sample_size, replace=False)))\n",
    "    return sums\n",
    "\n",
    "def probability_distribution(drawn_cards):\n",
    "    # Define the full deck (1 to 13 for each suit)\n",
    "    full_deck = [1, 2, 3, 4, 5, 6, 7, 8, 9, 10, 11, 12, 13] * 4\n",
    "\n",
    "    # Remove the drawn cards from the full deck\n",
    "    for card in drawn_cards:\n",
    "        full_deck.remove(card)\n",
    "\n",
    "    # Simulate draws to get the distribution of sums\n",
    "    sums = simulate_draws(full_deck, sample_size=n_cards - len(drawn_cards))\n",
    "\n",
    "    # Count the occurrences of each sum\n",
    "    counter = Counter(sums)\n",
    "\n",
    "    # Convert to probability distribution\n",
    "    total = sum(counter.values())\n",
    "    distribution = {k: v / total for k, v in counter.items()}\n",
    "    return distribution\n",
    "\n"
   ]
  },
  {
   "cell_type": "code",
   "execution_count": 50,
   "id": "03f5a4c8-178e-442f-8dad-59f5d71225d0",
   "metadata": {
    "execution": {
     "iopub.execute_input": "2024-07-18T15:43:27.454180Z",
     "iopub.status.busy": "2024-07-18T15:43:27.453996Z",
     "iopub.status.idle": "2024-07-18T15:43:27.459095Z",
     "shell.execute_reply": "2024-07-18T15:43:27.458705Z",
     "shell.execute_reply.started": "2024-07-18T15:43:27.454165Z"
    }
   },
   "outputs": [],
   "source": [
    "def price(cards_drawn_so_far, strikes):\n",
    "    dist = probability_distribution(cards_drawn_so_far)\n",
    "    sum_so_far = sum(cards_drawn_so_far)\n",
    "    instruments = []\n",
    "    instruments.append(\n",
    "        {\n",
    "            \"kind\": \"Future\",\n",
    "            \"strike\": np.nan,\n",
    "            \"price\": sum((k + sum_so_far) * p for k, p in dist.items()),\n",
    "            \"delta\": 1.0,\n",
    "        }\n",
    "    )\n",
    "    for strike in strikes:\n",
    "        instruments.append(\n",
    "            {\n",
    "                \"kind\": \"Call\",\n",
    "                \"strike\": strike,\n",
    "                \"price\": sum(\n",
    "                    max(k + sum_so_far - strike, 0) * p for k, p in dist.items()\n",
    "                ),\n",
    "                \"delta\": sum(p for k, p in dist.items() if k + sum_so_far >= strike),\n",
    "            }\n",
    "        )\n",
    "        instruments.append(\n",
    "            {\n",
    "                \"kind\": f\"Put\",\n",
    "                \"strike\": strike,\n",
    "                \"price\": sum(\n",
    "                    max(strike - (k + sum_so_far), 0) * p for k, p in dist.items()\n",
    "                ),\n",
    "                \"delta\": -sum(p for k, p in dist.items() if k + sum_so_far <= strike),\n",
    "            }\n",
    "        )\n",
    "    return pd.DataFrame(instruments).set_index([\"strike\", \"kind\"]).sort_index().round(2)"
   ]
  },
  {
   "cell_type": "code",
   "execution_count": 47,
   "id": "4913aa6e-3b1f-40d2-b132-14ef65fb42f6",
   "metadata": {
    "execution": {
     "iopub.execute_input": "2024-07-18T15:44:18.288137Z",
     "iopub.status.busy": "2024-07-18T15:44:18.287907Z",
     "iopub.status.idle": "2024-07-18T15:44:18.503968Z",
     "shell.execute_reply": "2024-07-18T15:44:18.503566Z",
     "shell.execute_reply.started": "2024-07-18T15:44:18.288117Z"
    }
   },
   "outputs": [
    {
     "data": {
      "text/html": [
       "<div>\n",
       "<style scoped>\n",
       "    .dataframe tbody tr th:only-of-type {\n",
       "        vertical-align: middle;\n",
       "    }\n",
       "\n",
       "    .dataframe tbody tr th {\n",
       "        vertical-align: top;\n",
       "    }\n",
       "\n",
       "    .dataframe thead th {\n",
       "        text-align: right;\n",
       "    }\n",
       "</style>\n",
       "<table border=\"1\" class=\"dataframe\">\n",
       "  <thead>\n",
       "    <tr style=\"text-align: right;\">\n",
       "      <th></th>\n",
       "      <th></th>\n",
       "      <th>price</th>\n",
       "      <th>delta</th>\n",
       "    </tr>\n",
       "    <tr>\n",
       "      <th>strike</th>\n",
       "      <th>kind</th>\n",
       "      <th></th>\n",
       "      <th></th>\n",
       "    </tr>\n",
       "  </thead>\n",
       "  <tbody>\n",
       "    <tr>\n",
       "      <th rowspan=\"2\" valign=\"top\">130.0</th>\n",
       "      <th>Call</th>\n",
       "      <td>12.0</td>\n",
       "      <td>1.0</td>\n",
       "    </tr>\n",
       "    <tr>\n",
       "      <th>Put</th>\n",
       "      <td>0.0</td>\n",
       "      <td>0.0</td>\n",
       "    </tr>\n",
       "    <tr>\n",
       "      <th rowspan=\"2\" valign=\"top\">140.0</th>\n",
       "      <th>Call</th>\n",
       "      <td>2.0</td>\n",
       "      <td>1.0</td>\n",
       "    </tr>\n",
       "    <tr>\n",
       "      <th>Put</th>\n",
       "      <td>0.0</td>\n",
       "      <td>0.0</td>\n",
       "    </tr>\n",
       "    <tr>\n",
       "      <th rowspan=\"2\" valign=\"top\">150.0</th>\n",
       "      <th>Call</th>\n",
       "      <td>0.0</td>\n",
       "      <td>0.0</td>\n",
       "    </tr>\n",
       "    <tr>\n",
       "      <th>Put</th>\n",
       "      <td>8.0</td>\n",
       "      <td>-1.0</td>\n",
       "    </tr>\n",
       "    <tr>\n",
       "      <th>NaN</th>\n",
       "      <th>Future</th>\n",
       "      <td>142.0</td>\n",
       "      <td>1.0</td>\n",
       "    </tr>\n",
       "  </tbody>\n",
       "</table>\n",
       "</div>"
      ],
      "text/plain": [
       "               price  delta\n",
       "strike kind                \n",
       "130.0  Call     12.0    1.0\n",
       "       Put       0.0    0.0\n",
       "140.0  Call      2.0    1.0\n",
       "       Put       0.0    0.0\n",
       "150.0  Call      0.0    0.0\n",
       "       Put       8.0   -1.0\n",
       "NaN    Future  142.0    1.0"
      ]
     },
     "execution_count": 47,
     "metadata": {},
     "output_type": "execute_result"
    }
   ],
   "source": [
    "price(\n",
    "    [6, 3, 13, 13, 11, 9, 12, 5, 12,6,6,1,11,5,5,1,2,4,9, 8],\n",
    "    strikes=[130, 140, 150],\n",
    ")"
   ]
  },
  {
   "cell_type": "code",
   "execution_count": 51,
   "id": "59a301a8-1057-4c87-b17a-bf13e3f9de61",
   "metadata": {
    "execution": {
     "iopub.execute_input": "2024-07-18T15:44:50.490018Z",
     "iopub.status.busy": "2024-07-18T15:44:50.489785Z",
     "iopub.status.idle": "2024-07-18T15:44:51.671176Z",
     "shell.execute_reply": "2024-07-18T15:44:51.670699Z",
     "shell.execute_reply.started": "2024-07-18T15:44:50.490001Z"
    }
   },
   "outputs": [
    {
     "data": {
      "text/html": [
       "<div>\n",
       "<style scoped>\n",
       "    .dataframe tbody tr th:only-of-type {\n",
       "        vertical-align: middle;\n",
       "    }\n",
       "\n",
       "    .dataframe tbody tr th {\n",
       "        vertical-align: top;\n",
       "    }\n",
       "\n",
       "    .dataframe thead th {\n",
       "        text-align: right;\n",
       "    }\n",
       "</style>\n",
       "<table border=\"1\" class=\"dataframe\">\n",
       "  <thead>\n",
       "    <tr style=\"text-align: right;\">\n",
       "      <th></th>\n",
       "      <th></th>\n",
       "      <th>price</th>\n",
       "      <th>delta</th>\n",
       "    </tr>\n",
       "    <tr>\n",
       "      <th>strike</th>\n",
       "      <th>kind</th>\n",
       "      <th></th>\n",
       "      <th></th>\n",
       "    </tr>\n",
       "  </thead>\n",
       "  <tbody>\n",
       "    <tr>\n",
       "      <th rowspan=\"2\" valign=\"top\">130.0</th>\n",
       "      <th>Call</th>\n",
       "      <td>11.74</td>\n",
       "      <td>0.78</td>\n",
       "    </tr>\n",
       "    <tr>\n",
       "      <th>Put</th>\n",
       "      <td>1.73</td>\n",
       "      <td>-0.24</td>\n",
       "    </tr>\n",
       "    <tr>\n",
       "      <th rowspan=\"2\" valign=\"top\">150.0</th>\n",
       "      <th>Call</th>\n",
       "      <td>1.73</td>\n",
       "      <td>0.24</td>\n",
       "    </tr>\n",
       "    <tr>\n",
       "      <th>Put</th>\n",
       "      <td>11.72</td>\n",
       "      <td>-0.78</td>\n",
       "    </tr>\n",
       "    <tr>\n",
       "      <th>NaN</th>\n",
       "      <th>Future</th>\n",
       "      <td>140.01</td>\n",
       "      <td>1.00</td>\n",
       "    </tr>\n",
       "  </tbody>\n",
       "</table>\n",
       "</div>"
      ],
      "text/plain": [
       "                price  delta\n",
       "strike kind                 \n",
       "130.0  Call     11.74   0.78\n",
       "       Put       1.73  -0.24\n",
       "150.0  Call      1.73   0.24\n",
       "       Put      11.72  -0.78\n",
       "NaN    Future  140.01   1.00"
      ]
     },
     "execution_count": 51,
     "metadata": {},
     "output_type": "execute_result"
    }
   ],
   "source": [
    "price(\n",
    "    [],\n",
    "    strikes=[130, 150],\n",
    ")"
   ]
  },
  {
   "cell_type": "code",
   "execution_count": null,
   "id": "5887529e-dd15-4b92-950c-05a57a4f38e0",
   "metadata": {},
   "outputs": [],
   "source": []
  }
 ],
 "metadata": {
  "kernelspec": {
   "display_name": "Python 3 (ipykernel)",
   "language": "python",
   "name": "python3"
  },
  "language_info": {
   "codemirror_mode": {
    "name": "ipython",
    "version": 3
   },
   "file_extension": ".py",
   "mimetype": "text/x-python",
   "name": "python",
   "nbconvert_exporter": "python",
   "pygments_lexer": "ipython3",
   "version": "3.12.4"
  },
  "widgets": {
   "application/vnd.jupyter.widget-state+json": {
    "state": {},
    "version_major": 2,
    "version_minor": 0
   }
  }
 },
 "nbformat": 4,
 "nbformat_minor": 5
}
